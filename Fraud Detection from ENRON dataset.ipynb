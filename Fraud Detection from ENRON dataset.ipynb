{
 "cells": [
  {
   "cell_type": "markdown",
   "metadata": {},
   "source": [
    "# Identifying Fraud at Enron Using Emails and Financial Data"
   ]
  },
  {
   "cell_type": "markdown",
   "metadata": {},
   "source": [
    "## Project Introduction"
   ]
  },
  {
   "cell_type": "markdown",
   "metadata": {},
   "source": [
    "In 2000, Enron was one of the largest companies in the United States. By 2002, it had collapsed into bankruptcy due to widespread corporate fraud. In the resulting Federal investigation, there was a significant amount of typically confidential information entered into public record, including tens of thousands of emails and detailed financial data for top executives.\n",
    "For this project, predictive models were built using scikit learn, numpy, and pandas modules in Python. The target of the predictions were persons-of-interest (POI’s) who were ‘individuals who were indicted, reached a settlement, or plea deal with the government, or testified in exchange for prosecution immunity.’ Financial compensation data and aggregate email statistics from the Enron Corpus were used as features for prediction.\n",
    "\n",
    "The goal of this project is to build a prediction model to identify persons-of-interest (POI’s.)"
   ]
  },
  {
   "cell_type": "markdown",
   "metadata": {},
   "source": [
    "### Outline:"
   ]
  },
  {
   "cell_type": "markdown",
   "metadata": {},
   "source": [
    "- [Understanding the Dataset](#lesson_1)\n",
    "- [Developing a \"Predictive Theory\"](#lesson_2)\n",
    "- [**PROJECT 1**: Performing Data Analysis of the Enron Dataset](#project_1)"
   ]
  },
  {
   "cell_type": "markdown",
   "metadata": {},
   "source": [
    "- [Applying Regression](#lesson_1)\n",
    "- [**PROJECT 2**: Outlier Investigation](#project_2)"
   ]
  },
  {
   "cell_type": "markdown",
   "metadata": {},
   "source": [
    "- [Optimize Feature Selection/Engineering](#lesson_1)\n",
    "- [**PROJECT 3**: Creating New Features](#project_2)"
   ]
  },
  {
   "cell_type": "markdown",
   "metadata": {},
   "source": []
  },
  {
   "cell_type": "markdown",
   "metadata": {},
   "source": []
  },
  {
   "cell_type": "markdown",
   "metadata": {},
   "source": [
    "**Importing Necessary Libraries**"
   ]
  },
  {
   "cell_type": "code",
   "execution_count": 37,
   "metadata": {},
   "outputs": [],
   "source": [
    "import sys\n",
    "import pickle\n",
    "import numpy as np\n",
    "import pandas as pd\n",
    "import sklearn\n",
    "import matplotlib as plt\n",
    "%matplotlib inline"
   ]
  },
  {
   "cell_type": "code",
   "execution_count": 38,
   "metadata": {},
   "outputs": [],
   "source": [
    "import pickle\n",
    "\n",
    "enron_data = pickle.load(open(\"C:/Users/Geekquad/ud120-projects/final_project/final_project_dataset_modified_unix.pkl\", \"rb\"))"
   ]
  },
  {
   "cell_type": "markdown",
   "metadata": {},
   "source": [
    "## Understanding the Dataset"
   ]
  },
  {
   "cell_type": "markdown",
   "metadata": {},
   "source": [
    "### Data Exploration "
   ]
  },
  {
   "cell_type": "markdown",
   "metadata": {},
   "source": [
    "Addresses the most important characteristics of the dataset and uses these characteristics to inform their analysis.\n",
    "\n",
    "**Important characteristics include: **\n",
    "-  Size of the Enron Dataset\n",
    "-  Features in the Enron Dataset \n",
    "-  Finding POI's in the Enron Data\n",
    "-  Queries of the Dataset\n",
    "- Follow the Money\n",
    "- Dealing with Unfilled Features\n",
    "- Missing POI's"
   ]
  },
  {
   "cell_type": "code",
   "execution_count": 39,
   "metadata": {},
   "outputs": [
    {
     "name": "stdout",
     "output_type": "stream",
     "text": [
      "Number of people in the Enron dataset: 143\n"
     ]
    }
   ],
   "source": [
    "print('Number of people in the Enron dataset: {0}'.format(len(enron_data)))"
   ]
  },
  {
   "cell_type": "code",
   "execution_count": 40,
   "metadata": {
    "scrolled": true
   },
   "outputs": [
    {
     "name": "stdout",
     "output_type": "stream",
     "text": [
      "0          METTS MARK\n",
      "1       BAXTER JOHN C\n",
      "2      ELLIOTT STEVEN\n",
      "3    CORDES WILLIAM R\n",
      "4      HANNON KEVIN P\n",
      "dtype: object\n"
     ]
    },
    {
     "data": {
      "text/plain": [
       "<bound method NDFrame.head of        bonus deferral_payments deferred_income director_fees  \\\n",
       "0     600000               NaN             NaN           NaN   \n",
       "1    1200000           1295738        -1386055           NaN   \n",
       "2     350000               NaN         -400729           NaN   \n",
       "3        NaN               NaN             NaN           NaN   \n",
       "4    1500000               NaN        -3117011           NaN   \n",
       "5     325000               NaN             NaN           NaN   \n",
       "6        NaN           1848227             NaN           NaN   \n",
       "7    2600000               NaN             NaN           NaN   \n",
       "8    1150000           2157527         -934484           NaN   \n",
       "9     400000           1130036          -33333           NaN   \n",
       "10       NaN           2964506             NaN           NaN   \n",
       "11       NaN            774401             NaN           NaN   \n",
       "12    850000               NaN             NaN           NaN   \n",
       "13    700000               NaN             NaN           NaN   \n",
       "14       NaN            504610             NaN           NaN   \n",
       "15       NaN               NaN             NaN           NaN   \n",
       "16   1200000             27610         -144062           NaN   \n",
       "17   1100000            842924         -719000           NaN   \n",
       "18    250000               NaN             NaN           NaN   \n",
       "19       NaN               NaN          -10800           NaN   \n",
       "20       NaN             53625             NaN           NaN   \n",
       "21    850000               NaN             NaN           NaN   \n",
       "22   3100000               NaN             NaN           NaN   \n",
       "23       NaN               NaN          -98784         98784   \n",
       "24       NaN           -102500             NaN          3285   \n",
       "25   2000000               NaN             NaN           NaN   \n",
       "26       NaN               NaN             NaN           NaN   \n",
       "27    250000               NaN         -485813           NaN   \n",
       "28       NaN               NaN          -36666         36666   \n",
       "29   1000000               NaN             NaN           NaN   \n",
       "..       ...               ...             ...           ...   \n",
       "113   300000               NaN             NaN           NaN   \n",
       "114      NaN               NaN             NaN        137864   \n",
       "115   300000               NaN         -159792           NaN   \n",
       "116   500000               NaN             NaN           NaN   \n",
       "117      NaN               NaN             NaN           NaN   \n",
       "118   400000               NaN             NaN           NaN   \n",
       "119   850000               NaN             NaN           NaN   \n",
       "120    70000               NaN             NaN           NaN   \n",
       "121      NaN               NaN             NaN           NaN   \n",
       "122      NaN             10259             NaN           NaN   \n",
       "123   600000               NaN             NaN           NaN   \n",
       "124   800000               NaN        -1284000           NaN   \n",
       "125  2000000           6426990        -3367011           NaN   \n",
       "126  1000000               NaN             NaN           NaN   \n",
       "127      NaN               NaN             NaN           NaN   \n",
       "128   400000            260455         -201641           NaN   \n",
       "129      NaN               NaN             NaN           NaN   \n",
       "130      NaN             50591             NaN           NaN   \n",
       "131      NaN               NaN             NaN           NaN   \n",
       "132   700000               NaN             NaN           NaN   \n",
       "133      NaN               NaN         -121284        125034   \n",
       "134      NaN               NaN             NaN           NaN   \n",
       "135   300000               NaN         -575000           NaN   \n",
       "136      NaN             85430             NaN           NaN   \n",
       "137   900000            649584         -694862           NaN   \n",
       "138      NaN               NaN             NaN        119292   \n",
       "139  1000000               NaN         -235000           NaN   \n",
       "140   600000            227449             NaN           NaN   \n",
       "141   800000               NaN         -300000           NaN   \n",
       "142   600000               NaN             NaN           NaN   \n",
       "\n",
       "                   email_address exercised_stock_options expenses  \\\n",
       "0           mark.metts@enron.com                     NaN    94299   \n",
       "1                            NaN                 6680544    11200   \n",
       "2       steven.elliott@enron.com                 4890344    78552   \n",
       "3          bill.cordes@enron.com                  651850      NaN   \n",
       "4         kevin.hannon@enron.com                 5538001    34039   \n",
       "5    kristina.mordaunt@enron.com                     NaN    35018   \n",
       "6       rockford.meyer@enron.com                  493489      NaN   \n",
       "7      jeffrey.mcmahon@enron.com                 1104054   137108   \n",
       "8        mark.haedicke@enron.com                  608750    76169   \n",
       "9           greg.piper@enron.com                  880290    43057   \n",
       "10       gene.humphrey@enron.com                 2282768     4994   \n",
       "11                           NaN                     NaN      NaN   \n",
       "12     jeremy.blachman@enron.com                  765313    84208   \n",
       "13         marty.sunde@enron.com                     NaN      NaN   \n",
       "14          dana.gibbs@enron.com                 2218275      NaN   \n",
       "15                           NaN                  372205      NaN   \n",
       "16         wes.colwell@enron.com                     NaN    16514   \n",
       "17           s..muller@enron.com                 1056320      NaN   \n",
       "18    charlene.jackson@enron.com                  185063    10181   \n",
       "19       dick.westfahl@enron.com                     NaN    51870   \n",
       "20                           NaN                 1030329    33785   \n",
       "21           rob.walls@enron.com                 4346544    50936   \n",
       "22      louise.kitchen@enron.com                   81042     5774   \n",
       "23                           NaN                     NaN      NaN   \n",
       "24                           NaN                    3285      NaN   \n",
       "25    jeffrey.shankman@enron.com                 1441898   178979   \n",
       "26       john.wodraska@enron.com                     NaN      NaN   \n",
       "27     rick.bergsieker@enron.com                     NaN    59175   \n",
       "28                           NaN                     NaN   228656   \n",
       "29       philippe.bibi@enron.com                 1465734    38559   \n",
       "..                           ...                     ...      ...   \n",
       "113     mark.pickering@enron.com                   28798    31653   \n",
       "114   sanjay.bhatnagar@enron.com                 2604490      NaN   \n",
       "115     rebecca.carter@enron.com                     NaN      NaN   \n",
       "116      john.buchanan@enron.com                  825464      600   \n",
       "117                          NaN                  192758    55097   \n",
       "118       julia.murray@enron.com                  400478    57580   \n",
       "119      kevin.garland@enron.com                  636246    48405   \n",
       "120       keith.dodson@enron.com                     NaN    28164   \n",
       "121       scott.yeager@enron.com                 8308552    53947   \n",
       "122          joe.hirko@enron.com                30766064    77978   \n",
       "123     janet.dietrich@enron.com                 1550019     3475   \n",
       "124      james.derrick@enron.com                 8831913    51124   \n",
       "125       mark.frevert@enron.com                10433518    86987   \n",
       "126            lou.pai@enron.com                15364167    32047   \n",
       "127       rod.hayslett@enron.com                     NaN      NaN   \n",
       "128          frank.bay@enron.com                     NaN   129142   \n",
       "129      danny.mccarty@enron.com                  664375      NaN   \n",
       "130                          NaN                  176378      NaN   \n",
       "131  matthew.scrimshaw@enron.com                  759557      NaN   \n",
       "132        mark.koenig@enron.com                  671737   127017   \n",
       "133                          NaN                     NaN      NaN   \n",
       "134         larry.izzo@enron.com                 2165172    28093   \n",
       "135   elizabeth.tilney@enron.com                  591250      NaN   \n",
       "136          a..martin@enron.com                 2070306     8211   \n",
       "137           rick.buy@enron.com                 2542813      NaN   \n",
       "138                          NaN                     NaN      NaN   \n",
       "139     richard.causey@enron.com                     NaN    30674   \n",
       "140    mitchell.taylor@enron.com                 3181250      NaN   \n",
       "141       jeff.donahue@enron.com                  765920    96268   \n",
       "142         ben.glisan@enron.com                  384728   125978   \n",
       "\n",
       "    from_messages from_poi_to_this_person from_this_person_to_poi  \\\n",
       "0              29                      38                       1   \n",
       "1             NaN                     NaN                     NaN   \n",
       "2             NaN                     NaN                     NaN   \n",
       "3              12                      10                       0   \n",
       "4              32                      32                      21   \n",
       "5             NaN                     NaN                     NaN   \n",
       "6              28                       0                       0   \n",
       "7              48                      58                      26   \n",
       "8            1941                     180                      61   \n",
       "9             222                      61                      48   \n",
       "10             17                      10                      17   \n",
       "11            NaN                     NaN                     NaN   \n",
       "12             14                      25                       2   \n",
       "13             38                      37                      13   \n",
       "14             12                       0                       0   \n",
       "15            NaN                     NaN                     NaN   \n",
       "16             40                     240                      11   \n",
       "17             16                      12                       0   \n",
       "18             56                      25                      19   \n",
       "19            NaN                     NaN                     NaN   \n",
       "20            NaN                     NaN                     NaN   \n",
       "21            146                      17                       0   \n",
       "22           1728                     251                     194   \n",
       "23            NaN                     NaN                     NaN   \n",
       "24            NaN                     NaN                     NaN   \n",
       "25           2681                      94                      83   \n",
       "26            NaN                     NaN                     NaN   \n",
       "27             59                       4                       0   \n",
       "28            NaN                     NaN                     NaN   \n",
       "29             40                      23                       8   \n",
       "..            ...                     ...                     ...   \n",
       "113            67                       7                       0   \n",
       "114            29                       0                       1   \n",
       "115            15                      29                       7   \n",
       "116           125                       0                       0   \n",
       "117           NaN                     NaN                     NaN   \n",
       "118            45                      11                       2   \n",
       "119            44                      10                      27   \n",
       "120            14                      10                       3   \n",
       "121           NaN                     NaN                     NaN   \n",
       "122           NaN                     NaN                     NaN   \n",
       "123            63                     305                      14   \n",
       "124           909                      64                      20   \n",
       "125            21                     242                       6   \n",
       "126           NaN                     NaN                     NaN   \n",
       "127          1061                      35                      38   \n",
       "128           NaN                     NaN                     NaN   \n",
       "129           215                      25                       2   \n",
       "130           NaN                     NaN                     NaN   \n",
       "131           NaN                     NaN                     NaN   \n",
       "132            61                      53                      15   \n",
       "133           NaN                     NaN                     NaN   \n",
       "134            19                      28                       5   \n",
       "135            19                      10                      11   \n",
       "136           230                       8                       0   \n",
       "137          1053                     156                      71   \n",
       "138           NaN                     NaN                     NaN   \n",
       "139            49                      58                      12   \n",
       "140            29                       0                       0   \n",
       "141            22                     188                      11   \n",
       "142            16                      52                       6   \n",
       "\n",
       "           ...        long_term_incentive    other    poi  restricted_stock  \\\n",
       "0          ...                        NaN     1740  False            585062   \n",
       "1          ...                    1586055  2660303  False           3942714   \n",
       "2          ...                        NaN    12961  False           1788391   \n",
       "3          ...                        NaN      NaN  False            386335   \n",
       "4          ...                    1617011    11350   True            853064   \n",
       "5          ...                        NaN     1411  False            208510   \n",
       "6          ...                        NaN      NaN  False            462384   \n",
       "7          ...                     694862   297353  False            558801   \n",
       "8          ...                     983346    52382  False            524169   \n",
       "9          ...                        NaN      778  False            409554   \n",
       "10         ...                        NaN      NaN  False               NaN   \n",
       "11         ...                        NaN      NaN  False            463261   \n",
       "12         ...                     831809      272  False            189041   \n",
       "13         ...                     476451   111122  False            698920   \n",
       "14         ...                     461912      NaN  False               NaN   \n",
       "15         ...                        NaN      NaN  False            153686   \n",
       "16         ...                        NaN   101740   True            698242   \n",
       "17         ...                    1725545      947  False            360528   \n",
       "18         ...                        NaN     2435  False            540672   \n",
       "19         ...                     256191   401130  False            384930   \n",
       "20         ...                        NaN      NaN  False               NaN   \n",
       "21         ...                     540751        2  False           1552453   \n",
       "22         ...                        NaN    93925  False            466101   \n",
       "23         ...                        NaN      NaN  False             32460   \n",
       "24         ...                        NaN      NaN  False               NaN   \n",
       "25         ...                     554422     1191  False            630137   \n",
       "26         ...                        NaN   189583  False               NaN   \n",
       "27         ...                     180250   427316  False            659249   \n",
       "28         ...                        NaN      NaN  False               NaN   \n",
       "29         ...                     369721   425688  False            378082   \n",
       "..         ...                        ...      ...    ...               ...   \n",
       "113        ...                        NaN      NaN  False               NaN   \n",
       "114        ...                        NaN   137864  False          -2604490   \n",
       "115        ...                      75000      540  False            307301   \n",
       "116        ...                     304805     1215  False            189041   \n",
       "117        ...                        NaN      NaN  False               NaN   \n",
       "118        ...                     125000      330  False            196983   \n",
       "119        ...                     375304    60814  False            259907   \n",
       "120        ...                        NaN      774  False               NaN   \n",
       "121        ...                        NaN   147950   True           3576206   \n",
       "122        ...                        NaN     2856   True               NaN   \n",
       "123        ...                     556416      473  False            315068   \n",
       "124        ...                     484000     7482  False           1787380   \n",
       "125        ...                    1617011  7427621  False           4188667   \n",
       "126        ...                        NaN  1829457  False           8453763   \n",
       "127        ...                        NaN      NaN  False            346663   \n",
       "128        ...                        NaN       69  False            145796   \n",
       "129        ...                        NaN      NaN  False             94556   \n",
       "130        ...                        NaN      NaN  False               NaN   \n",
       "131        ...                        NaN      NaN  False               NaN   \n",
       "132        ...                     300000   150458   True           1248318   \n",
       "133        ...                        NaN      NaN  False               NaN   \n",
       "134        ...                     312500  1553729  False           3654808   \n",
       "135        ...                     275000   152055  False            576792   \n",
       "136        ...                    5145434  2818454  False               NaN   \n",
       "137        ...                     769862   400572  False            901657   \n",
       "138        ...                        NaN      NaN  False               NaN   \n",
       "139        ...                     350000   307895   True           2502063   \n",
       "140        ...                        NaN      NaN  False            563798   \n",
       "141        ...                        NaN      891  False            315068   \n",
       "142        ...                      71023   200308   True            393818   \n",
       "\n",
       "    restricted_stock_deferred   salary shared_receipt_with_poi to_messages  \\\n",
       "0                         NaN   365788                     702         807   \n",
       "1                         NaN   267102                     NaN         NaN   \n",
       "2                         NaN   170941                     NaN         NaN   \n",
       "3                         NaN      NaN                      58         764   \n",
       "4                         NaN   243293                    1035        1045   \n",
       "5                         NaN   267093                     NaN         NaN   \n",
       "6                         NaN      NaN                      22         232   \n",
       "7                         NaN   370448                    2228        2355   \n",
       "8                     -329825   374125                    1847        4009   \n",
       "9                     -409554   197091                     742        1238   \n",
       "10                        NaN   130724                     119         128   \n",
       "11                     -94556      NaN                     NaN         NaN   \n",
       "12                        NaN   248546                    2326        2475   \n",
       "13                        NaN   257486                    2565        2647   \n",
       "14                        NaN      NaN                      23         169   \n",
       "15                    -153686      NaN                     NaN         NaN   \n",
       "16                        NaN   288542                    1132        1758   \n",
       "17                        NaN   251654                     114         136   \n",
       "18                        NaN   288558                     117         258   \n",
       "19                        NaN    63744                     NaN         NaN   \n",
       "20                        NaN      NaN                     NaN         NaN   \n",
       "21                        NaN   357091                     215         671   \n",
       "22                        NaN   271442                    3669        8305   \n",
       "23                     -32460      NaN                     NaN         NaN   \n",
       "24                      44093      NaN                     NaN         NaN   \n",
       "25                        NaN   304110                    1730        3221   \n",
       "26                        NaN      NaN                     NaN         NaN   \n",
       "27                        NaN   187922                     233         383   \n",
       "28                        NaN      NaN                     NaN         NaN   \n",
       "29                        NaN   213625                    1336        1607   \n",
       "..                        ...      ...                     ...         ...   \n",
       "113                       NaN   655037                     728         898   \n",
       "114                  15456290      NaN                     463         523   \n",
       "115                   -307301   261809                     196         312   \n",
       "116                       NaN   248017                      23        1088   \n",
       "117                       NaN      NaN                     NaN         NaN   \n",
       "118                       NaN   229284                     395        2192   \n",
       "119                       NaN   231946                     178         209   \n",
       "120                       NaN   221003                     114         176   \n",
       "121                       NaN   158403                     NaN         NaN   \n",
       "122                       NaN      NaN                     NaN         NaN   \n",
       "123                       NaN   250100                    1902        2572   \n",
       "124                  -1787380   492375                    1401        2181   \n",
       "125                       NaN  1060932                    2979        3275   \n",
       "126                       NaN   261879                     NaN         NaN   \n",
       "127                       NaN      NaN                     571        2649   \n",
       "128                    -82782   239671                     NaN         NaN   \n",
       "129                       NaN      NaN                     508        1433   \n",
       "130                       NaN      NaN                     NaN         NaN   \n",
       "131                       NaN      NaN                     NaN         NaN   \n",
       "132                       NaN   309946                    2271        2374   \n",
       "133                       NaN      NaN                     NaN         NaN   \n",
       "134                       NaN    85274                     437         496   \n",
       "135                       NaN   247338                     379         460   \n",
       "136                       NaN   349487                     477        1522   \n",
       "137                       NaN   330546                    2333        3523   \n",
       "138                       NaN      NaN                     NaN         NaN   \n",
       "139                       NaN   415189                    1585        1892   \n",
       "140                       NaN   265214                     300         533   \n",
       "141                       NaN   278601                     772         865   \n",
       "142                       NaN   274975                     874         873   \n",
       "\n",
       "    total_payments total_stock_value  \n",
       "0          1061827            585062  \n",
       "1          5634343          10623258  \n",
       "2           211725           6678735  \n",
       "3              NaN           1038185  \n",
       "4           288682           6391065  \n",
       "5           628522            208510  \n",
       "6          1848227            955873  \n",
       "7          4099771           1662855  \n",
       "8          3859065            803094  \n",
       "9          1737629            880290  \n",
       "10         3100224           2282768  \n",
       "11          774401            368705  \n",
       "12         2014835            954354  \n",
       "13         1545059            698920  \n",
       "14          966522           2218275  \n",
       "15             NaN            372205  \n",
       "16         1490344            698242  \n",
       "17         3202070           1416848  \n",
       "18          551174            725735  \n",
       "19          762135            384930  \n",
       "20           87410           1030329  \n",
       "21         1798780           5898997  \n",
       "22         3471141            547143  \n",
       "23             NaN               NaN  \n",
       "24          102500            -44093  \n",
       "25         3038702           2072035  \n",
       "26          189583               NaN  \n",
       "27          618850            659249  \n",
       "28          228656               NaN  \n",
       "29         2047593           1843816  \n",
       "..             ...               ...  \n",
       "113        1386690             28798  \n",
       "114       15456290               NaN  \n",
       "115         477557               NaN  \n",
       "116        1054637           1014505  \n",
       "117          55097            192758  \n",
       "118         812194            597461  \n",
       "119        1566469            896153  \n",
       "120         319941               NaN  \n",
       "121         360300          11884758  \n",
       "122          91093          30766064  \n",
       "123        1410464           1865087  \n",
       "124         550981           8831913  \n",
       "125       17252530          14622185  \n",
       "126        3123383          23817930  \n",
       "127            NaN            346663  \n",
       "128         827696             63014  \n",
       "129            NaN            758931  \n",
       "130          50591            176378  \n",
       "131            NaN            759557  \n",
       "132        1587421           1920055  \n",
       "133           3750               NaN  \n",
       "134        1979596           5819980  \n",
       "135         399393           1168042  \n",
       "136        8407016           2070306  \n",
       "137        2355702           3444470  \n",
       "138         119292               NaN  \n",
       "139        1868758           2502063  \n",
       "140        1092663           3745048  \n",
       "141         875760           1080988  \n",
       "142        1272284            778546  \n",
       "\n",
       "[143 rows x 21 columns]>"
      ]
     },
     "execution_count": 40,
     "metadata": {},
     "output_type": "execute_result"
    }
   ],
   "source": [
    "\"\"\"Change data dictionary to pandas DataFrame\"\"\"\n",
    "df = pd.DataFrame.from_records(list(enron_data.values()))\n",
    "persons= pd.Series(list(enron_data.keys()))\n",
    "print(persons.head())\n",
    "df.head"
   ]
  },
  {
   "cell_type": "code",
   "execution_count": 41,
   "metadata": {},
   "outputs": [
    {
     "name": "stdout",
     "output_type": "stream",
     "text": [
      "Number of POI's(Person Of Interests): 16\n"
     ]
    }
   ],
   "source": [
    "pois = [x for x, y in enron_data.items() if y['poi']]\n",
    "print('Number of POI\\'s(Person Of Interests): {0}'.format(len(pois)))"
   ]
  },
  {
   "cell_type": "code",
   "execution_count": 42,
   "metadata": {},
   "outputs": [
    {
     "name": "stdout",
     "output_type": "stream",
     "text": [
      "<class 'pandas.core.frame.DataFrame'>\n",
      "RangeIndex: 143 entries, 0 to 142\n",
      "Data columns (total 21 columns):\n",
      "bonus                        143 non-null object\n",
      "deferral_payments            143 non-null object\n",
      "deferred_income              143 non-null object\n",
      "director_fees                143 non-null object\n",
      "email_address                143 non-null object\n",
      "exercised_stock_options      143 non-null object\n",
      "expenses                     143 non-null object\n",
      "from_messages                143 non-null object\n",
      "from_poi_to_this_person      143 non-null object\n",
      "from_this_person_to_poi      143 non-null object\n",
      "loan_advances                143 non-null object\n",
      "long_term_incentive          143 non-null object\n",
      "other                        143 non-null object\n",
      "poi                          143 non-null bool\n",
      "restricted_stock             143 non-null object\n",
      "restricted_stock_deferred    143 non-null object\n",
      "salary                       143 non-null object\n",
      "shared_receipt_with_poi      143 non-null object\n",
      "to_messages                  143 non-null object\n",
      "total_payments               143 non-null object\n",
      "total_stock_value            142 non-null object\n",
      "dtypes: bool(1), object(20)\n",
      "memory usage: 22.6+ KB\n"
     ]
    }
   ],
   "source": [
    "df.shape\n",
    "df.info()"
   ]
  },
  {
   "cell_type": "code",
   "execution_count": 43,
   "metadata": {},
   "outputs": [
    {
     "data": {
      "text/plain": [
       "dict_keys(['METTS MARK', 'BAXTER JOHN C', 'ELLIOTT STEVEN', 'CORDES WILLIAM R', 'HANNON KEVIN P', 'MORDAUNT KRISTINA M', 'MEYER ROCKFORD G', 'MCMAHON JEFFREY', 'HAEDICKE MARK E', 'PIPER GREGORY F', 'HUMPHREY GENE E', 'NOLES JAMES L', 'BLACHMAN JEREMY M', 'SUNDE MARTIN', 'GIBBS DANA R', 'LOWRY CHARLES P', 'COLWELL WESLEY', 'MULLER MARK S', 'JACKSON CHARLENE R', 'WESTFAHL RICHARD K', 'WALTERS GARETH W', 'WALLS JR ROBERT H', 'KITCHEN LOUISE', 'CHAN RONNIE', 'BELFER ROBERT', 'SHANKMAN JEFFREY A', 'WODRASKA JOHN', 'BERGSIEKER RICHARD P', 'URQUHART JOHN A', 'BIBI PHILIPPE A', 'RIEKER PAULA H', 'WHALEY DAVID A', 'BECK SALLY W', 'HAUG DAVID L', 'ECHOLS JOHN B', 'MENDELSOHN JOHN', 'HICKERSON GARY J', 'CLINE KENNETH W', 'LEWIS RICHARD', 'HAYES ROBERT E', 'KOPPER MICHAEL J', 'LEFF DANIEL P', 'LAVORATO JOHN J', 'BERBERIAN DAVID', 'DETMERING TIMOTHY J', 'WAKEHAM JOHN', 'POWERS WILLIAM', 'GOLD JOSEPH', 'BANNANTINE JAMES M', 'DUNCAN JOHN H', 'SHAPIRO RICHARD S', 'SHERRIFF JOHN R', 'SHELBY REX', 'LEMAISTRE CHARLES', 'DEFFNER JOSEPH M', 'KISHKILL JOSEPH G', 'WHALLEY LAWRENCE G', 'MCCONNELL MICHAEL S', 'PIRO JIM', 'DELAINEY DAVID W', 'SULLIVAN-SHAKLOVITZ COLLEEN', 'WROBEL BRUCE', 'LINDHOLM TOD A', 'MEYER JEROME J', 'BUTTS ROBERT H', 'OLSON CINDY K', 'MCDONALD REBECCA', 'CUMBERLAND MICHAEL S', 'GAHN ROBERT S', 'BADUM JAMES P', 'HERMANN ROBERT J', 'FALLON JAMES B', 'GATHMANN WILLIAM D', 'HORTON STANLEY C', 'BOWEN JR RAYMOND M', 'GILLIS JOHN', 'FITZGERALD JAY L', 'MORAN MICHAEL P', 'REDMOND BRIAN L', 'BAZELIDES PHILIP J', 'BELDEN TIMOTHY N', 'DIMICHELE RICHARD G', 'DURAN WILLIAM D', 'THORN TERENCE H', 'FASTOW ANDREW S', 'FOY JOE', 'CALGER CHRISTOPHER F', 'RICE KENNETH D', 'KAMINSKI WINCENTY J', 'LOCKHART EUGENE E', 'COX DAVID', 'OVERDYKE JR JERE C', 'PEREIRA PAULO V. FERRAZ', 'STABLER FRANK', 'BLAKE JR. NORMAN P', 'SHERRICK JEFFREY B', 'PRENTICE JAMES', 'GRAY RODNEY', 'THE TRAVEL AGENCY IN THE PARK', 'UMANOFF ADAM S', 'KEAN STEVEN J', 'FOWLER PEGGY', 'WASAFF GEORGE', 'WHITE JR THOMAS E', 'CHRISTODOULOU DIOMEDES', 'ALLEN PHILLIP K', 'SHARP VICTORIA T', 'JAEDICKE ROBERT', 'WINOKUR JR. HERBERT S', 'BROWN MICHAEL', 'MCCLELLAN GEORGE', 'HUGHES JAMES A', 'REYNOLDS LAWRENCE', 'PICKERING MARK R', 'BHATNAGAR SANJAY', 'CARTER REBECCA C', 'BUCHANAN HAROLD G', 'YEAP SOON', 'MURRAY JULIA H', 'GARLAND C KEVIN', 'DODSON KEITH', 'YEAGER F SCOTT', 'HIRKO JOSEPH', 'DIETRICH JANET R', 'DERRICK JR. JAMES V', 'FREVERT MARK A', 'PAI LOU L', 'HAYSLETT RODERICK J', 'BAY FRANKLIN R', 'MCCARTY DANNY J', 'FUGH JOHN L', 'SCRIMSHAW MATTHEW', 'KOENIG MARK E', 'SAVAGE FRANK', 'IZZO LAWRENCE L', 'TILNEY ELIZABETH A', 'MARTIN AMANDA K', 'BUY RICHARD B', 'GRAMM WENDY L', 'CAUSEY RICHARD A', 'TAYLOR MITCHELL S', 'DONAHUE JR JEFFREY M', 'GLISAN JR BEN F'])"
      ]
     },
     "execution_count": 43,
     "metadata": {},
     "output_type": "execute_result"
    }
   ],
   "source": [
    "\"\"\" Nmaes of all the users in the dataset \"\"\"\n",
    "enron_data.keys()"
   ]
  },
  {
   "cell_type": "code",
   "execution_count": 44,
   "metadata": {},
   "outputs": [
    {
     "data": {
      "text/plain": [
       "{'bonus': 'NaN',\n",
       " 'deferral_payments': 564348,\n",
       " 'deferred_income': 'NaN',\n",
       " 'director_fees': 'NaN',\n",
       " 'email_address': 'james.prentice@enron.com',\n",
       " 'exercised_stock_options': 886231,\n",
       " 'expenses': 'NaN',\n",
       " 'from_messages': 'NaN',\n",
       " 'from_poi_to_this_person': 'NaN',\n",
       " 'from_this_person_to_poi': 'NaN',\n",
       " 'loan_advances': 'NaN',\n",
       " 'long_term_incentive': 'NaN',\n",
       " 'other': 'NaN',\n",
       " 'poi': False,\n",
       " 'restricted_stock': 208809,\n",
       " 'restricted_stock_deferred': 'NaN',\n",
       " 'salary': 'NaN',\n",
       " 'shared_receipt_with_poi': 'NaN',\n",
       " 'to_messages': 'NaN',\n",
       " 'total_payments': 564348,\n",
       " 'total_stock_value': 1095040}"
      ]
     },
     "execution_count": 44,
     "metadata": {},
     "output_type": "execute_result"
    }
   ],
   "source": [
    "enron_data['PRENTICE JAMES']"
   ]
  },
  {
   "cell_type": "code",
   "execution_count": 45,
   "metadata": {},
   "outputs": [
    {
     "data": {
      "text/plain": [
       "1095040"
      ]
     },
     "execution_count": 45,
     "metadata": {},
     "output_type": "execute_result"
    }
   ],
   "source": [
    "enron_data['PRENTICE JAMES']['total_stock_value']"
   ]
  },
  {
   "cell_type": "code",
   "execution_count": 46,
   "metadata": {},
   "outputs": [
    {
     "data": {
      "text/plain": [
       "11"
      ]
     },
     "execution_count": 46,
     "metadata": {},
     "output_type": "execute_result"
    }
   ],
   "source": [
    "enron_data['COLWELL WESLEY']['from_this_person_to_poi']"
   ]
  },
  {
   "cell_type": "code",
   "execution_count": 47,
   "metadata": {},
   "outputs": [],
   "source": [
    "features_list = ['poi', 'salary', 'to_messages', 'deferral_payments', 'total_payments', \n",
    "                 'loan_advances', 'bonus', 'restricted_stock_deferred', \n",
    "                 'deferred_income', 'total_stock_value', 'expenses', 'from_poi_to_this_person', \n",
    "                 'exercised_stock_options', 'from_messages', 'other', 'from_this_person_to_poi', \n",
    "                 'long_term_incentive', 'shared_receipt_with_poi', 'restricted_stock', 'director_fees'] \n",
    "\n",
    "f = open('C:/Users/Geekquad/ud120-projects/final_project/poi_names.txt', 'r')\n"
   ]
  },
  {
   "cell_type": "code",
   "execution_count": 48,
   "metadata": {},
   "outputs": [
    {
     "name": "stdout",
     "output_type": "stream",
     "text": [
      "Columns: ['bonus', 'deferral_payments', 'deferred_income', 'director_fees', 'email_address', 'exercised_stock_options', 'expenses', 'from_messages', 'from_poi_to_this_person', 'from_this_person_to_poi', 'loan_advances', 'long_term_incentive', 'other', 'poi', 'restricted_stock', 'restricted_stock_deferred', 'salary', 'shared_receipt_with_poi', 'to_messages', 'total_payments', 'total_stock_value']\n",
      "Shape: (143, 21)\n",
      "Number of POI in the dataset: 16\n",
      "Number of non-POI in the dataset: 127\n"
     ]
    }
   ],
   "source": [
    "print('Columns:', list(df.columns.values))\n",
    "print('Shape:', df.shape)\n",
    "print('Number of POI in the dataset:', (df['poi'] == 1).sum())\n",
    "print('Number of non-POI in the dataset:', (df['poi'] == 0).sum())"
   ]
  },
  {
   "cell_type": "code",
   "execution_count": 49,
   "metadata": {},
   "outputs": [
    {
     "name": "stdout",
     "output_type": "stream",
     "text": [
      "bonus                         64\n",
      "deferral_payments            106\n",
      "deferred_income               96\n",
      "director_fees                127\n",
      "email_address                 34\n",
      "exercised_stock_options       44\n",
      "expenses                      51\n",
      "from_messages                 59\n",
      "from_poi_to_this_person       59\n",
      "from_this_person_to_poi       59\n",
      "loan_advances                141\n",
      "long_term_incentive           80\n",
      "other                         53\n",
      "poi                            0\n",
      "restricted_stock              36\n",
      "restricted_stock_deferred    126\n",
      "salary                        51\n",
      "shared_receipt_with_poi       59\n",
      "to_messages                   59\n",
      "total_payments                21\n",
      "total_stock_value             20\n",
      "dtype: int64\n"
     ]
    }
   ],
   "source": [
    "df.replace(to_replace='NaN', value=np.nan, inplace=True)\n",
    "print(df.isnull().sum())"
   ]
  },
  {
   "cell_type": "markdown",
   "metadata": {},
   "source": [
    "\n",
    "There were 143 total records and 16 POIs in the original dataset.\n",
    "\n",
    "All features have null data.\n",
    "\n",
    "<hr> </hr>"
   ]
  },
  {
   "cell_type": "markdown",
   "metadata": {},
   "source": [
    "The features in the data fall into three major types, namely \n",
    "- financial features\n",
    "- email features\n",
    "- POI labels.\n",
    "\n",
    "Financial features: ['salary', 'deferral_payments', 'total_payments', 'loan_advances', 'bonus', 'restricted_stock_deferred', 'deferred_income', 'total_stock_value', 'expenses', 'exercised_stock_options', 'other', 'long_term_incentive', 'restricted_stock', 'director_fees'] (all units are in US dollars)\n",
    "\n",
    "Email features: ['to_messages', 'email_address', 'from_poi_to_this_person', 'from_messages', 'from_this_person_to_poi', 'shared_receipt_with_poi'] (units are generally number of emails messages; notable exception is ‘email_address’, which is a text string)\n",
    "\n",
    "POI label: [‘poi’] (boolean, represented as integer)\n",
    "\n",
    "I'm going to try to use all features, filter them and choose the best."
   ]
  },
  {
   "cell_type": "markdown",
   "metadata": {},
   "source": [
    "### End of Project 1 \n",
    "<hr> </hr>"
   ]
  },
  {
   "cell_type": "markdown",
   "metadata": {},
   "source": [
    "## Regression (Outlier Investigation)"
   ]
  },
  {
   "cell_type": "markdown",
   "metadata": {},
   "source": [
    "Identifying outlier(s) in the financial data, and explaining how they are removed or otherwise handled."
   ]
  },
  {
   "cell_type": "code",
   "execution_count": 68,
   "metadata": {},
   "outputs": [],
   "source": [
    "## Remove column from df if null counter > 65\n",
    "for column, series in df.iteritems():\n",
    "    if series.isnull().sum()> 65:\n",
    "        df.drop(column, axis=1, inplace=True)\n",
    "        \n",
    "## Remove email address column\n",
    "if 'email_address' in list(df.columns.values):\n",
    "    df.drop('email_address', axis=1, inplace=True)"
   ]
  },
  {
   "cell_type": "code",
   "execution_count": 51,
   "metadata": {},
   "outputs": [
    {
     "name": "stdout",
     "output_type": "stream",
     "text": [
      "<class 'pandas.core.frame.DataFrame'>\n",
      "RangeIndex: 143 entries, 0 to 142\n",
      "Data columns (total 14 columns):\n",
      "bonus                      79 non-null float64\n",
      "exercised_stock_options    99 non-null float64\n",
      "expenses                   92 non-null float64\n",
      "from_messages              84 non-null float64\n",
      "from_poi_to_this_person    84 non-null float64\n",
      "from_this_person_to_poi    84 non-null float64\n",
      "other                      90 non-null float64\n",
      "poi                        143 non-null bool\n",
      "restricted_stock           107 non-null float64\n",
      "salary                     92 non-null float64\n",
      "shared_receipt_with_poi    84 non-null float64\n",
      "to_messages                84 non-null float64\n",
      "total_payments             122 non-null float64\n",
      "total_stock_value          123 non-null float64\n",
      "dtypes: bool(1), float64(13)\n",
      "memory usage: 14.7 KB\n"
     ]
    }
   ],
   "source": [
    "df.info()"
   ]
  },
  {
   "cell_type": "code",
   "execution_count": 52,
   "metadata": {},
   "outputs": [
    {
     "name": "stdout",
     "output_type": "stream",
     "text": [
      "bonus                      0\n",
      "exercised_stock_options    0\n",
      "expenses                   0\n",
      "from_messages              0\n",
      "from_poi_to_this_person    0\n",
      "from_this_person_to_poi    0\n",
      "other                      0\n",
      "poi                        0\n",
      "restricted_stock           0\n",
      "salary                     0\n",
      "shared_receipt_with_poi    0\n",
      "to_messages                0\n",
      "total_payments             0\n",
      "total_stock_value          0\n",
      "dtype: int64\n",
      "       bonus  exercised_stock_options  expenses  from_messages  \\\n",
      "0   600000.0                      0.0   94299.0           29.0   \n",
      "1  1200000.0                6680544.0   11200.0            0.0   \n",
      "2   350000.0                4890344.0   78552.0            0.0   \n",
      "3        0.0                 651850.0       0.0           12.0   \n",
      "4  1500000.0                5538001.0   34039.0           32.0   \n",
      "\n",
      "   from_poi_to_this_person  from_this_person_to_poi      other    poi  \\\n",
      "0                     38.0                      1.0     1740.0  False   \n",
      "1                      0.0                      0.0  2660303.0  False   \n",
      "2                      0.0                      0.0    12961.0  False   \n",
      "3                     10.0                      0.0        0.0  False   \n",
      "4                     32.0                     21.0    11350.0   True   \n",
      "\n",
      "   restricted_stock    salary  shared_receipt_with_poi  to_messages  \\\n",
      "0          585062.0  365788.0                    702.0        807.0   \n",
      "1         3942714.0  267102.0                      0.0          0.0   \n",
      "2         1788391.0  170941.0                      0.0          0.0   \n",
      "3          386335.0       0.0                     58.0        764.0   \n",
      "4          853064.0  243293.0                   1035.0       1045.0   \n",
      "\n",
      "   total_payments  total_stock_value  \n",
      "0       1061827.0           585062.0  \n",
      "1       5634343.0         10623258.0  \n",
      "2        211725.0          6678735.0  \n",
      "3             0.0          1038185.0  \n",
      "4        288682.0          6391065.0  \n"
     ]
    },
    {
     "data": {
      "text/html": [
       "<div>\n",
       "<style scoped>\n",
       "    .dataframe tbody tr th:only-of-type {\n",
       "        vertical-align: middle;\n",
       "    }\n",
       "\n",
       "    .dataframe tbody tr th {\n",
       "        vertical-align: top;\n",
       "    }\n",
       "\n",
       "    .dataframe thead th {\n",
       "        text-align: right;\n",
       "    }\n",
       "</style>\n",
       "<table border=\"1\" class=\"dataframe\">\n",
       "  <thead>\n",
       "    <tr style=\"text-align: right;\">\n",
       "      <th></th>\n",
       "      <th>bonus</th>\n",
       "      <th>exercised_stock_options</th>\n",
       "      <th>expenses</th>\n",
       "      <th>from_messages</th>\n",
       "      <th>from_poi_to_this_person</th>\n",
       "      <th>from_this_person_to_poi</th>\n",
       "      <th>other</th>\n",
       "      <th>restricted_stock</th>\n",
       "      <th>salary</th>\n",
       "      <th>shared_receipt_with_poi</th>\n",
       "      <th>to_messages</th>\n",
       "      <th>total_payments</th>\n",
       "      <th>total_stock_value</th>\n",
       "    </tr>\n",
       "  </thead>\n",
       "  <tbody>\n",
       "    <tr>\n",
       "      <th>count</th>\n",
       "      <td>1.430000e+02</td>\n",
       "      <td>1.430000e+02</td>\n",
       "      <td>143.000000</td>\n",
       "      <td>143.000000</td>\n",
       "      <td>143.000000</td>\n",
       "      <td>143.000000</td>\n",
       "      <td>1.430000e+02</td>\n",
       "      <td>1.430000e+02</td>\n",
       "      <td>1.430000e+02</td>\n",
       "      <td>143.000000</td>\n",
       "      <td>143.000000</td>\n",
       "      <td>1.430000e+02</td>\n",
       "      <td>1.430000e+02</td>\n",
       "    </tr>\n",
       "    <tr>\n",
       "      <th>mean</th>\n",
       "      <td>5.926127e+05</td>\n",
       "      <td>1.715504e+06</td>\n",
       "      <td>34719.447552</td>\n",
       "      <td>365.118881</td>\n",
       "      <td>37.552448</td>\n",
       "      <td>24.475524</td>\n",
       "      <td>2.267385e+05</td>\n",
       "      <td>7.235235e+05</td>\n",
       "      <td>1.714731e+05</td>\n",
       "      <td>676.384615</td>\n",
       "      <td>1191.972028</td>\n",
       "      <td>1.489942e+06</td>\n",
       "      <td>2.404233e+06</td>\n",
       "    </tr>\n",
       "    <tr>\n",
       "      <th>std</th>\n",
       "      <td>1.036924e+06</td>\n",
       "      <td>3.694149e+06</td>\n",
       "      <td>45235.547286</td>\n",
       "      <td>1455.675655</td>\n",
       "      <td>74.148184</td>\n",
       "      <td>80.080666</td>\n",
       "      <td>7.552178e+05</td>\n",
       "      <td>1.571184e+06</td>\n",
       "      <td>1.660404e+05</td>\n",
       "      <td>1066.923179</td>\n",
       "      <td>2223.860300</td>\n",
       "      <td>2.386745e+06</td>\n",
       "      <td>4.422592e+06</td>\n",
       "    </tr>\n",
       "    <tr>\n",
       "      <th>min</th>\n",
       "      <td>0.000000e+00</td>\n",
       "      <td>0.000000e+00</td>\n",
       "      <td>0.000000</td>\n",
       "      <td>0.000000</td>\n",
       "      <td>0.000000</td>\n",
       "      <td>0.000000</td>\n",
       "      <td>0.000000e+00</td>\n",
       "      <td>-2.604490e+06</td>\n",
       "      <td>0.000000e+00</td>\n",
       "      <td>0.000000</td>\n",
       "      <td>0.000000</td>\n",
       "      <td>0.000000e+00</td>\n",
       "      <td>-4.409300e+04</td>\n",
       "    </tr>\n",
       "    <tr>\n",
       "      <th>25%</th>\n",
       "      <td>0.000000e+00</td>\n",
       "      <td>0.000000e+00</td>\n",
       "      <td>0.000000</td>\n",
       "      <td>0.000000</td>\n",
       "      <td>0.000000</td>\n",
       "      <td>0.000000</td>\n",
       "      <td>0.000000e+00</td>\n",
       "      <td>0.000000e+00</td>\n",
       "      <td>0.000000e+00</td>\n",
       "      <td>0.000000</td>\n",
       "      <td>0.000000</td>\n",
       "      <td>8.929250e+04</td>\n",
       "      <td>2.148255e+05</td>\n",
       "    </tr>\n",
       "    <tr>\n",
       "      <th>50%</th>\n",
       "      <td>2.500000e+05</td>\n",
       "      <td>6.014380e+05</td>\n",
       "      <td>17355.000000</td>\n",
       "      <td>16.000000</td>\n",
       "      <td>1.000000</td>\n",
       "      <td>0.000000</td>\n",
       "      <td>8.910000e+02</td>\n",
       "      <td>3.466630e+05</td>\n",
       "      <td>2.061210e+05</td>\n",
       "      <td>91.000000</td>\n",
       "      <td>266.000000</td>\n",
       "      <td>9.114530e+05</td>\n",
       "      <td>9.543540e+05</td>\n",
       "    </tr>\n",
       "    <tr>\n",
       "      <th>75%</th>\n",
       "      <td>8.000000e+05</td>\n",
       "      <td>1.636136e+06</td>\n",
       "      <td>52688.500000</td>\n",
       "      <td>50.500000</td>\n",
       "      <td>39.500000</td>\n",
       "      <td>12.500000</td>\n",
       "      <td>1.492040e+05</td>\n",
       "      <td>6.801640e+05</td>\n",
       "      <td>2.670975e+05</td>\n",
       "      <td>869.000000</td>\n",
       "      <td>1504.000000</td>\n",
       "      <td>1.858492e+06</td>\n",
       "      <td>2.217787e+06</td>\n",
       "    </tr>\n",
       "    <tr>\n",
       "      <th>max</th>\n",
       "      <td>8.000000e+06</td>\n",
       "      <td>3.076606e+07</td>\n",
       "      <td>228763.000000</td>\n",
       "      <td>14368.000000</td>\n",
       "      <td>528.000000</td>\n",
       "      <td>609.000000</td>\n",
       "      <td>7.427621e+06</td>\n",
       "      <td>1.384707e+07</td>\n",
       "      <td>1.060932e+06</td>\n",
       "      <td>5521.000000</td>\n",
       "      <td>15149.000000</td>\n",
       "      <td>1.725253e+07</td>\n",
       "      <td>3.076606e+07</td>\n",
       "    </tr>\n",
       "  </tbody>\n",
       "</table>\n",
       "</div>"
      ],
      "text/plain": [
       "              bonus  exercised_stock_options       expenses  from_messages  \\\n",
       "count  1.430000e+02             1.430000e+02     143.000000     143.000000   \n",
       "mean   5.926127e+05             1.715504e+06   34719.447552     365.118881   \n",
       "std    1.036924e+06             3.694149e+06   45235.547286    1455.675655   \n",
       "min    0.000000e+00             0.000000e+00       0.000000       0.000000   \n",
       "25%    0.000000e+00             0.000000e+00       0.000000       0.000000   \n",
       "50%    2.500000e+05             6.014380e+05   17355.000000      16.000000   \n",
       "75%    8.000000e+05             1.636136e+06   52688.500000      50.500000   \n",
       "max    8.000000e+06             3.076606e+07  228763.000000   14368.000000   \n",
       "\n",
       "       from_poi_to_this_person  from_this_person_to_poi         other  \\\n",
       "count               143.000000               143.000000  1.430000e+02   \n",
       "mean                 37.552448                24.475524  2.267385e+05   \n",
       "std                  74.148184                80.080666  7.552178e+05   \n",
       "min                   0.000000                 0.000000  0.000000e+00   \n",
       "25%                   0.000000                 0.000000  0.000000e+00   \n",
       "50%                   1.000000                 0.000000  8.910000e+02   \n",
       "75%                  39.500000                12.500000  1.492040e+05   \n",
       "max                 528.000000               609.000000  7.427621e+06   \n",
       "\n",
       "       restricted_stock        salary  shared_receipt_with_poi   to_messages  \\\n",
       "count      1.430000e+02  1.430000e+02               143.000000    143.000000   \n",
       "mean       7.235235e+05  1.714731e+05               676.384615   1191.972028   \n",
       "std        1.571184e+06  1.660404e+05              1066.923179   2223.860300   \n",
       "min       -2.604490e+06  0.000000e+00                 0.000000      0.000000   \n",
       "25%        0.000000e+00  0.000000e+00                 0.000000      0.000000   \n",
       "50%        3.466630e+05  2.061210e+05                91.000000    266.000000   \n",
       "75%        6.801640e+05  2.670975e+05               869.000000   1504.000000   \n",
       "max        1.384707e+07  1.060932e+06              5521.000000  15149.000000   \n",
       "\n",
       "       total_payments  total_stock_value  \n",
       "count    1.430000e+02       1.430000e+02  \n",
       "mean     1.489942e+06       2.404233e+06  \n",
       "std      2.386745e+06       4.422592e+06  \n",
       "min      0.000000e+00      -4.409300e+04  \n",
       "25%      8.929250e+04       2.148255e+05  \n",
       "50%      9.114530e+05       9.543540e+05  \n",
       "75%      1.858492e+06       2.217787e+06  \n",
       "max      1.725253e+07       3.076606e+07  "
      ]
     },
     "execution_count": 52,
     "metadata": {},
     "output_type": "execute_result"
    }
   ],
   "source": [
    "# Impute the missing values\n",
    "#from sklearn.preprocessing import Imputer\n",
    "#imp = Imputer(missing_values='NaN', strategy='median', axis=0)\n",
    "#imp.fit(df)\n",
    "#df_imp = pd.DataFrame(imp.transform(df.copy(deep=True)))\n",
    "\n",
    "df_imp = df.replace(to_replace=np.nan, value=0)\n",
    "df_imp = df.fillna(0).copy(deep=True)\n",
    "df_imp.columns = list(df.columns.values)\n",
    "\n",
    "print(df_imp.isnull().sum())\n",
    "print(df_imp.head())\n",
    "\n",
    "df_imp.describe()"
   ]
  },
  {
   "cell_type": "code",
   "execution_count": 53,
   "metadata": {},
   "outputs": [
    {
     "data": {
      "text/plain": [
       "{'bonus': 'NaN',\n",
       " 'deferral_payments': 'NaN',\n",
       " 'deferred_income': 'NaN',\n",
       " 'director_fees': 'NaN',\n",
       " 'email_address': 'NaN',\n",
       " 'exercised_stock_options': 'NaN',\n",
       " 'expenses': 'NaN',\n",
       " 'from_messages': 'NaN',\n",
       " 'from_poi_to_this_person': 'NaN',\n",
       " 'from_this_person_to_poi': 'NaN',\n",
       " 'loan_advances': 'NaN',\n",
       " 'long_term_incentive': 'NaN',\n",
       " 'other': 362096,\n",
       " 'poi': False,\n",
       " 'restricted_stock': 'NaN',\n",
       " 'restricted_stock_deferred': 'NaN',\n",
       " 'salary': 'NaN',\n",
       " 'shared_receipt_with_poi': 'NaN',\n",
       " 'to_messages': 'NaN',\n",
       " 'total_payments': 362096,\n",
       " 'total_stock_value': 'NaN'}"
      ]
     },
     "execution_count": 53,
     "metadata": {},
     "output_type": "execute_result"
    }
   ],
   "source": [
    "### Queries of the Dataset ###\n",
    "enron_data['THE TRAVEL AGENCY IN THE PARK']"
   ]
  },
  {
   "cell_type": "code",
   "execution_count": 69,
   "metadata": {},
   "outputs": [
    {
     "name": "stdout",
     "output_type": "stream",
     "text": [
      "98\n"
     ]
    }
   ],
   "source": [
    "# dropping row for 'THE TRAVEL AGENCY IN THE PARK'\n",
    "park_index = list(enron_data.keys()).index('THE TRAVEL AGENCY IN THE PARK')\n",
    "print(park_index)\n",
    "df_imp_sub = df_imp.drop(df_imp.index[[park_index]])"
   ]
  },
  {
   "cell_type": "code",
   "execution_count": 55,
   "metadata": {},
   "outputs": [
    {
     "data": {
      "text/plain": [
       "{'bonus': 'NaN',\n",
       " 'deferral_payments': 'NaN',\n",
       " 'deferred_income': 'NaN',\n",
       " 'director_fees': 'NaN',\n",
       " 'email_address': 'NaN',\n",
       " 'exercised_stock_options': 'NaN',\n",
       " 'expenses': 'NaN',\n",
       " 'from_messages': 'NaN',\n",
       " 'from_poi_to_this_person': 'NaN',\n",
       " 'from_this_person_to_poi': 'NaN',\n",
       " 'loan_advances': 'NaN',\n",
       " 'long_term_incentive': 'NaN',\n",
       " 'other': 'NaN',\n",
       " 'poi': False,\n",
       " 'restricted_stock': 'NaN',\n",
       " 'restricted_stock_deferred': 'NaN',\n",
       " 'salary': 'NaN',\n",
       " 'shared_receipt_with_poi': 'NaN',\n",
       " 'to_messages': 'NaN',\n",
       " 'total_payments': 'NaN',\n",
       " 'total_stock_value': 'NaN'}"
      ]
     },
     "execution_count": 55,
     "metadata": {},
     "output_type": "execute_result"
    }
   ],
   "source": [
    "enron_data['LOCKHART EUGENE E']"
   ]
  },
  {
   "cell_type": "code",
   "execution_count": 59,
   "metadata": {},
   "outputs": [
    {
     "name": "stdout",
     "output_type": "stream",
     "text": [
      "89\n"
     ]
    }
   ],
   "source": [
    "# dropping row for 'LOCKHART EUGENE E'\n",
    "lockhart_index = list(enron_data.keys()).index('LOCKHART EUGENE E')\n",
    "print(lockhart_index)\n",
    "df_imp_sub = df_imp.drop(df_imp.index[[park_index]])"
   ]
  },
  {
   "cell_type": "markdown",
   "metadata": {},
   "source": [
    "- 'THE TRAVEL AGENCY IN THE PARK' was removed since it is not a person. \n",
    "- 'LOCKHART EUGENE E' was removed during data processing since this row had no entries for any feature."
   ]
  },
  {
   "cell_type": "markdown",
   "metadata": {},
   "source": [
    "### End of Project 2\n",
    "<hr> </hr>"
   ]
  },
  {
   "cell_type": "markdown",
   "metadata": {},
   "source": [
    "## Optimize Feature Selection/Engineering"
   ]
  },
  {
   "cell_type": "code",
   "execution_count": 62,
   "metadata": {},
   "outputs": [],
   "source": [
    "enron_df = df_imp_sub"
   ]
  },
  {
   "cell_type": "markdown",
   "metadata": {},
   "source": [
    "### Studying Financial Features: "
   ]
  },
  {
   "cell_type": "code",
   "execution_count": 67,
   "metadata": {},
   "outputs": [
    {
     "data": {
      "image/png": "[encoded data removed]",
      "text/plain": [
       "<matplotlib.figure.Figure at 0x2280b940358>"
      ]
     },
     "metadata": {},
     "output_type": "display_data"
    }
   ],
   "source": [
    "import matplotlib.pyplot as plt\n",
    "plt.scatter(enron_df['salary'], enron_df['total_payments'])\n",
    "plt.xlabel(\"salary\")\n",
    "plt.ylabel(\"total payments\")\n",
    "plt.show()"
   ]
  },
  {
   "cell_type": "code",
   "execution_count": 70,
   "metadata": {},
   "outputs": [
    {
     "data": {
      "image/png": "[encoded data removed]",
      "text/plain": [
       "<matplotlib.figure.Figure at 0x2280b965518>"
      ]
     },
     "metadata": {},
     "output_type": "display_data"
    }
   ],
   "source": [
    "plt.scatter(enron_df['salary'], enron_df['total_stock_value'])\n",
    "plt.xlabel(\"Salary\")\n",
    "plt.ylabel(\"Total Stock Value\")\n",
    "plt.show()"
   ]
  },
  {
   "cell_type": "markdown",
   "metadata": {},
   "source": [
    "#### Creating New deatures for Financial Features"
   ]
  },
  {
   "cell_type": "code",
   "execution_count": 71,
   "metadata": {},
   "outputs": [
    {
     "data": {
      "text/html": [
       "<div>\n",
       "<style scoped>\n",
       "    .dataframe tbody tr th:only-of-type {\n",
       "        vertical-align: middle;\n",
       "    }\n",
       "\n",
       "    .dataframe tbody tr th {\n",
       "        vertical-align: top;\n",
       "    }\n",
       "\n",
       "    .dataframe thead th {\n",
       "        text-align: right;\n",
       "    }\n",
       "</style>\n",
       "<table border=\"1\" class=\"dataframe\">\n",
       "  <thead>\n",
       "    <tr style=\"text-align: right;\">\n",
       "      <th></th>\n",
       "      <th>bonus</th>\n",
       "      <th>exercised_stock_options</th>\n",
       "      <th>expenses</th>\n",
       "      <th>from_messages</th>\n",
       "      <th>from_poi_to_this_person</th>\n",
       "      <th>from_this_person_to_poi</th>\n",
       "      <th>other</th>\n",
       "      <th>poi</th>\n",
       "      <th>restricted_stock</th>\n",
       "      <th>salary</th>\n",
       "      <th>shared_receipt_with_poi</th>\n",
       "      <th>to_messages</th>\n",
       "      <th>total_payments</th>\n",
       "      <th>total_stock_value</th>\n",
       "    </tr>\n",
       "  </thead>\n",
       "  <tbody>\n",
       "  </tbody>\n",
       "</table>\n",
       "</div>"
      ],
      "text/plain": [
       "Empty DataFrame\n",
       "Columns: [bonus, exercised_stock_options, expenses, from_messages, from_poi_to_this_person, from_this_person_to_poi, other, poi, restricted_stock, salary, shared_receipt_with_poi, to_messages, total_payments, total_stock_value]\n",
       "Index: []"
      ]
     },
     "execution_count": 71,
     "metadata": {},
     "output_type": "execute_result"
    }
   ],
   "source": [
    "enron_df[enron_df['total_stock_value'].isnull()]"
   ]
  },
  {
   "cell_type": "code",
   "execution_count": null,
   "metadata": {},
   "outputs": [],
   "source": []
  }
 ],
 "metadata": {
  "kernelspec": {
   "display_name": "Python 3",
   "language": "python",
   "name": "python3"
  }
 },
 "nbformat": 4,
 "nbformat_minor": 2
}
