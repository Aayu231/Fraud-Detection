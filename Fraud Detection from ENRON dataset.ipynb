{
 "cells": [
  {
   "cell_type": "markdown",
   "metadata": {},
   "source": [
    "# Identifying Fraud at Enron Using Emails and Financial Data"
   ]
  },
  {
   "cell_type": "markdown",
   "metadata": {},
   "source": [
    "## Project Introduction"
   ]
  },
  {
   "cell_type": "markdown",
   "metadata": {},
   "source": [
    "In 2000, Enron was one of the largest companies in the United States. By 2002, it had collapsed into bankruptcy due to widespread corporate fraud. In the resulting Federal investigation, there was a significant amount of typically confidential information entered into public record, including tens of thousands of emails and detailed financial data for top executives.\n",
    "For this project, predictive models were built using scikit learn, numpy, and pandas modules in Python. The target of the predictions were persons-of-interest (POI’s) who were ‘individuals who were indicted, reached a settlement, or plea deal with the government, or testified in exchange for prosecution immunity.’ Financial compensation data and aggregate email statistics from the Enron Corpus were used as features for prediction.\n",
    "\n",
    "The goal of this project is to build a prediction model to identify persons-of-interest (POI’s.)"
   ]
  },
  {
   "cell_type": "markdown",
   "metadata": {},
   "source": [
    "**Importing Necessary Libraries**"
   ]
  },
  {
   "cell_type": "code",
   "execution_count": 30,
   "metadata": {},
   "outputs": [],
   "source": [
    "import sys\n",
    "import pickle\n",
    "import numpy as np\n",
    "import pandas as pd\n",
    "import sklearn\n",
    "import matplotlib as plt\n",
    "%matplotlib inline"
   ]
  },
  {
   "cell_type": "code",
   "execution_count": 31,
   "metadata": {},
   "outputs": [],
   "source": [
    "import pickle\n",
    "\n",
    "enron_data = pickle.load(open(\"C:/Users/Geekquad/ud120-projects/final_project/final_project_dataset_modified_unix.pkl\", \"rb\"))"
   ]
  },
  {
   "cell_type": "markdown",
   "metadata": {},
   "source": [
    "## Understanding the Dataset"
   ]
  },
  {
   "cell_type": "markdown",
   "metadata": {},
   "source": [
    "### Data Exploration "
   ]
  },
  {
   "cell_type": "markdown",
   "metadata": {},
   "source": [
    "Addresses the most important characteristics of the dataset and uses these characteristics to inform their analysis.\n",
    "\n",
    "**Important characteristics include: **\n",
    "-  Size of the Enron Dataset\n",
    "-  Features in the Enron Dataset \n",
    "-  Finding POI's in the Enron Data\n",
    "-  Queries of the Dataset\n",
    "- Follow the Money\n",
    "- Dealing with Unfilled Features\n",
    "- Missing POI's"
   ]
  },
  {
   "cell_type": "code",
   "execution_count": 50,
   "metadata": {},
   "outputs": [
    {
     "name": "stdout",
     "output_type": "stream",
     "text": [
      "Number of people in the Enron dataset: 143\n"
     ]
    }
   ],
   "source": [
    "print('Number of people in the Enron dataset: {0}'.format(len(enron_data)))"
   ]
  },
  {
   "cell_type": "code",
   "execution_count": 51,
   "metadata": {
    "scrolled": false
   },
   "outputs": [
    {
     "name": "stdout",
     "output_type": "stream",
     "text": [
      "0          METTS MARK\n",
      "1       BAXTER JOHN C\n",
      "2      ELLIOTT STEVEN\n",
      "3    CORDES WILLIAM R\n",
      "4      HANNON KEVIN P\n",
      "dtype: object\n"
     ]
    },
    {
     "data": {
      "text/plain": [
       "<bound method NDFrame.head of        bonus deferral_payments deferred_income director_fees  \\\n",
       "0     600000               NaN             NaN           NaN   \n",
       "1    1200000           1295738        -1386055           NaN   \n",
       "2     350000               NaN         -400729           NaN   \n",
       "3        NaN               NaN             NaN           NaN   \n",
       "4    1500000               NaN        -3117011           NaN   \n",
       "5     325000               NaN             NaN           NaN   \n",
       "6        NaN           1848227             NaN           NaN   \n",
       "7    2600000               NaN             NaN           NaN   \n",
       "8    1150000           2157527         -934484           NaN   \n",
       "9     400000           1130036          -33333           NaN   \n",
       "10       NaN           2964506             NaN           NaN   \n",
       "11       NaN            774401             NaN           NaN   \n",
       "12    850000               NaN             NaN           NaN   \n",
       "13    700000               NaN             NaN           NaN   \n",
       "14       NaN            504610             NaN           NaN   \n",
       "15       NaN               NaN             NaN           NaN   \n",
       "16   1200000             27610         -144062           NaN   \n",
       "17   1100000            842924         -719000           NaN   \n",
       "18    250000               NaN             NaN           NaN   \n",
       "19       NaN               NaN          -10800           NaN   \n",
       "20       NaN             53625             NaN           NaN   \n",
       "21    850000               NaN             NaN           NaN   \n",
       "22   3100000               NaN             NaN           NaN   \n",
       "23       NaN               NaN          -98784         98784   \n",
       "24       NaN           -102500             NaN          3285   \n",
       "25   2000000               NaN             NaN           NaN   \n",
       "26       NaN               NaN             NaN           NaN   \n",
       "27    250000               NaN         -485813           NaN   \n",
       "28       NaN               NaN          -36666         36666   \n",
       "29   1000000               NaN             NaN           NaN   \n",
       "..       ...               ...             ...           ...   \n",
       "113   300000               NaN             NaN           NaN   \n",
       "114      NaN               NaN             NaN        137864   \n",
       "115   300000               NaN         -159792           NaN   \n",
       "116   500000               NaN             NaN           NaN   \n",
       "117      NaN               NaN             NaN           NaN   \n",
       "118   400000               NaN             NaN           NaN   \n",
       "119   850000               NaN             NaN           NaN   \n",
       "120    70000               NaN             NaN           NaN   \n",
       "121      NaN               NaN             NaN           NaN   \n",
       "122      NaN             10259             NaN           NaN   \n",
       "123   600000               NaN             NaN           NaN   \n",
       "124   800000               NaN        -1284000           NaN   \n",
       "125  2000000           6426990        -3367011           NaN   \n",
       "126  1000000               NaN             NaN           NaN   \n",
       "127      NaN               NaN             NaN           NaN   \n",
       "128   400000            260455         -201641           NaN   \n",
       "129      NaN               NaN             NaN           NaN   \n",
       "130      NaN             50591             NaN           NaN   \n",
       "131      NaN               NaN             NaN           NaN   \n",
       "132   700000               NaN             NaN           NaN   \n",
       "133      NaN               NaN         -121284        125034   \n",
       "134      NaN               NaN             NaN           NaN   \n",
       "135   300000               NaN         -575000           NaN   \n",
       "136      NaN             85430             NaN           NaN   \n",
       "137   900000            649584         -694862           NaN   \n",
       "138      NaN               NaN             NaN        119292   \n",
       "139  1000000               NaN         -235000           NaN   \n",
       "140   600000            227449             NaN           NaN   \n",
       "141   800000               NaN         -300000           NaN   \n",
       "142   600000               NaN             NaN           NaN   \n",
       "\n",
       "                   email_address exercised_stock_options expenses  \\\n",
       "0           mark.metts@enron.com                     NaN    94299   \n",
       "1                            NaN                 6680544    11200   \n",
       "2       steven.elliott@enron.com                 4890344    78552   \n",
       "3          bill.cordes@enron.com                  651850      NaN   \n",
       "4         kevin.hannon@enron.com                 5538001    34039   \n",
       "5    kristina.mordaunt@enron.com                     NaN    35018   \n",
       "6       rockford.meyer@enron.com                  493489      NaN   \n",
       "7      jeffrey.mcmahon@enron.com                 1104054   137108   \n",
       "8        mark.haedicke@enron.com                  608750    76169   \n",
       "9           greg.piper@enron.com                  880290    43057   \n",
       "10       gene.humphrey@enron.com                 2282768     4994   \n",
       "11                           NaN                     NaN      NaN   \n",
       "12     jeremy.blachman@enron.com                  765313    84208   \n",
       "13         marty.sunde@enron.com                     NaN      NaN   \n",
       "14          dana.gibbs@enron.com                 2218275      NaN   \n",
       "15                           NaN                  372205      NaN   \n",
       "16         wes.colwell@enron.com                     NaN    16514   \n",
       "17           s..muller@enron.com                 1056320      NaN   \n",
       "18    charlene.jackson@enron.com                  185063    10181   \n",
       "19       dick.westfahl@enron.com                     NaN    51870   \n",
       "20                           NaN                 1030329    33785   \n",
       "21           rob.walls@enron.com                 4346544    50936   \n",
       "22      louise.kitchen@enron.com                   81042     5774   \n",
       "23                           NaN                     NaN      NaN   \n",
       "24                           NaN                    3285      NaN   \n",
       "25    jeffrey.shankman@enron.com                 1441898   178979   \n",
       "26       john.wodraska@enron.com                     NaN      NaN   \n",
       "27     rick.bergsieker@enron.com                     NaN    59175   \n",
       "28                           NaN                     NaN   228656   \n",
       "29       philippe.bibi@enron.com                 1465734    38559   \n",
       "..                           ...                     ...      ...   \n",
       "113     mark.pickering@enron.com                   28798    31653   \n",
       "114   sanjay.bhatnagar@enron.com                 2604490      NaN   \n",
       "115     rebecca.carter@enron.com                     NaN      NaN   \n",
       "116      john.buchanan@enron.com                  825464      600   \n",
       "117                          NaN                  192758    55097   \n",
       "118       julia.murray@enron.com                  400478    57580   \n",
       "119      kevin.garland@enron.com                  636246    48405   \n",
       "120       keith.dodson@enron.com                     NaN    28164   \n",
       "121       scott.yeager@enron.com                 8308552    53947   \n",
       "122          joe.hirko@enron.com                30766064    77978   \n",
       "123     janet.dietrich@enron.com                 1550019     3475   \n",
       "124      james.derrick@enron.com                 8831913    51124   \n",
       "125       mark.frevert@enron.com                10433518    86987   \n",
       "126            lou.pai@enron.com                15364167    32047   \n",
       "127       rod.hayslett@enron.com                     NaN      NaN   \n",
       "128          frank.bay@enron.com                     NaN   129142   \n",
       "129      danny.mccarty@enron.com                  664375      NaN   \n",
       "130                          NaN                  176378      NaN   \n",
       "131  matthew.scrimshaw@enron.com                  759557      NaN   \n",
       "132        mark.koenig@enron.com                  671737   127017   \n",
       "133                          NaN                     NaN      NaN   \n",
       "134         larry.izzo@enron.com                 2165172    28093   \n",
       "135   elizabeth.tilney@enron.com                  591250      NaN   \n",
       "136          a..martin@enron.com                 2070306     8211   \n",
       "137           rick.buy@enron.com                 2542813      NaN   \n",
       "138                          NaN                     NaN      NaN   \n",
       "139     richard.causey@enron.com                     NaN    30674   \n",
       "140    mitchell.taylor@enron.com                 3181250      NaN   \n",
       "141       jeff.donahue@enron.com                  765920    96268   \n",
       "142         ben.glisan@enron.com                  384728   125978   \n",
       "\n",
       "    from_messages from_poi_to_this_person from_this_person_to_poi  \\\n",
       "0              29                      38                       1   \n",
       "1             NaN                     NaN                     NaN   \n",
       "2             NaN                     NaN                     NaN   \n",
       "3              12                      10                       0   \n",
       "4              32                      32                      21   \n",
       "5             NaN                     NaN                     NaN   \n",
       "6              28                       0                       0   \n",
       "7              48                      58                      26   \n",
       "8            1941                     180                      61   \n",
       "9             222                      61                      48   \n",
       "10             17                      10                      17   \n",
       "11            NaN                     NaN                     NaN   \n",
       "12             14                      25                       2   \n",
       "13             38                      37                      13   \n",
       "14             12                       0                       0   \n",
       "15            NaN                     NaN                     NaN   \n",
       "16             40                     240                      11   \n",
       "17             16                      12                       0   \n",
       "18             56                      25                      19   \n",
       "19            NaN                     NaN                     NaN   \n",
       "20            NaN                     NaN                     NaN   \n",
       "21            146                      17                       0   \n",
       "22           1728                     251                     194   \n",
       "23            NaN                     NaN                     NaN   \n",
       "24            NaN                     NaN                     NaN   \n",
       "25           2681                      94                      83   \n",
       "26            NaN                     NaN                     NaN   \n",
       "27             59                       4                       0   \n",
       "28            NaN                     NaN                     NaN   \n",
       "29             40                      23                       8   \n",
       "..            ...                     ...                     ...   \n",
       "113            67                       7                       0   \n",
       "114            29                       0                       1   \n",
       "115            15                      29                       7   \n",
       "116           125                       0                       0   \n",
       "117           NaN                     NaN                     NaN   \n",
       "118            45                      11                       2   \n",
       "119            44                      10                      27   \n",
       "120            14                      10                       3   \n",
       "121           NaN                     NaN                     NaN   \n",
       "122           NaN                     NaN                     NaN   \n",
       "123            63                     305                      14   \n",
       "124           909                      64                      20   \n",
       "125            21                     242                       6   \n",
       "126           NaN                     NaN                     NaN   \n",
       "127          1061                      35                      38   \n",
       "128           NaN                     NaN                     NaN   \n",
       "129           215                      25                       2   \n",
       "130           NaN                     NaN                     NaN   \n",
       "131           NaN                     NaN                     NaN   \n",
       "132            61                      53                      15   \n",
       "133           NaN                     NaN                     NaN   \n",
       "134            19                      28                       5   \n",
       "135            19                      10                      11   \n",
       "136           230                       8                       0   \n",
       "137          1053                     156                      71   \n",
       "138           NaN                     NaN                     NaN   \n",
       "139            49                      58                      12   \n",
       "140            29                       0                       0   \n",
       "141            22                     188                      11   \n",
       "142            16                      52                       6   \n",
       "\n",
       "           ...        long_term_incentive    other    poi  restricted_stock  \\\n",
       "0          ...                        NaN     1740  False            585062   \n",
       "1          ...                    1586055  2660303  False           3942714   \n",
       "2          ...                        NaN    12961  False           1788391   \n",
       "3          ...                        NaN      NaN  False            386335   \n",
       "4          ...                    1617011    11350   True            853064   \n",
       "5          ...                        NaN     1411  False            208510   \n",
       "6          ...                        NaN      NaN  False            462384   \n",
       "7          ...                     694862   297353  False            558801   \n",
       "8          ...                     983346    52382  False            524169   \n",
       "9          ...                        NaN      778  False            409554   \n",
       "10         ...                        NaN      NaN  False               NaN   \n",
       "11         ...                        NaN      NaN  False            463261   \n",
       "12         ...                     831809      272  False            189041   \n",
       "13         ...                     476451   111122  False            698920   \n",
       "14         ...                     461912      NaN  False               NaN   \n",
       "15         ...                        NaN      NaN  False            153686   \n",
       "16         ...                        NaN   101740   True            698242   \n",
       "17         ...                    1725545      947  False            360528   \n",
       "18         ...                        NaN     2435  False            540672   \n",
       "19         ...                     256191   401130  False            384930   \n",
       "20         ...                        NaN      NaN  False               NaN   \n",
       "21         ...                     540751        2  False           1552453   \n",
       "22         ...                        NaN    93925  False            466101   \n",
       "23         ...                        NaN      NaN  False             32460   \n",
       "24         ...                        NaN      NaN  False               NaN   \n",
       "25         ...                     554422     1191  False            630137   \n",
       "26         ...                        NaN   189583  False               NaN   \n",
       "27         ...                     180250   427316  False            659249   \n",
       "28         ...                        NaN      NaN  False               NaN   \n",
       "29         ...                     369721   425688  False            378082   \n",
       "..         ...                        ...      ...    ...               ...   \n",
       "113        ...                        NaN      NaN  False               NaN   \n",
       "114        ...                        NaN   137864  False          -2604490   \n",
       "115        ...                      75000      540  False            307301   \n",
       "116        ...                     304805     1215  False            189041   \n",
       "117        ...                        NaN      NaN  False               NaN   \n",
       "118        ...                     125000      330  False            196983   \n",
       "119        ...                     375304    60814  False            259907   \n",
       "120        ...                        NaN      774  False               NaN   \n",
       "121        ...                        NaN   147950   True           3576206   \n",
       "122        ...                        NaN     2856   True               NaN   \n",
       "123        ...                     556416      473  False            315068   \n",
       "124        ...                     484000     7482  False           1787380   \n",
       "125        ...                    1617011  7427621  False           4188667   \n",
       "126        ...                        NaN  1829457  False           8453763   \n",
       "127        ...                        NaN      NaN  False            346663   \n",
       "128        ...                        NaN       69  False            145796   \n",
       "129        ...                        NaN      NaN  False             94556   \n",
       "130        ...                        NaN      NaN  False               NaN   \n",
       "131        ...                        NaN      NaN  False               NaN   \n",
       "132        ...                     300000   150458   True           1248318   \n",
       "133        ...                        NaN      NaN  False               NaN   \n",
       "134        ...                     312500  1553729  False           3654808   \n",
       "135        ...                     275000   152055  False            576792   \n",
       "136        ...                    5145434  2818454  False               NaN   \n",
       "137        ...                     769862   400572  False            901657   \n",
       "138        ...                        NaN      NaN  False               NaN   \n",
       "139        ...                     350000   307895   True           2502063   \n",
       "140        ...                        NaN      NaN  False            563798   \n",
       "141        ...                        NaN      891  False            315068   \n",
       "142        ...                      71023   200308   True            393818   \n",
       "\n",
       "    restricted_stock_deferred   salary shared_receipt_with_poi to_messages  \\\n",
       "0                         NaN   365788                     702         807   \n",
       "1                         NaN   267102                     NaN         NaN   \n",
       "2                         NaN   170941                     NaN         NaN   \n",
       "3                         NaN      NaN                      58         764   \n",
       "4                         NaN   243293                    1035        1045   \n",
       "5                         NaN   267093                     NaN         NaN   \n",
       "6                         NaN      NaN                      22         232   \n",
       "7                         NaN   370448                    2228        2355   \n",
       "8                     -329825   374125                    1847        4009   \n",
       "9                     -409554   197091                     742        1238   \n",
       "10                        NaN   130724                     119         128   \n",
       "11                     -94556      NaN                     NaN         NaN   \n",
       "12                        NaN   248546                    2326        2475   \n",
       "13                        NaN   257486                    2565        2647   \n",
       "14                        NaN      NaN                      23         169   \n",
       "15                    -153686      NaN                     NaN         NaN   \n",
       "16                        NaN   288542                    1132        1758   \n",
       "17                        NaN   251654                     114         136   \n",
       "18                        NaN   288558                     117         258   \n",
       "19                        NaN    63744                     NaN         NaN   \n",
       "20                        NaN      NaN                     NaN         NaN   \n",
       "21                        NaN   357091                     215         671   \n",
       "22                        NaN   271442                    3669        8305   \n",
       "23                     -32460      NaN                     NaN         NaN   \n",
       "24                      44093      NaN                     NaN         NaN   \n",
       "25                        NaN   304110                    1730        3221   \n",
       "26                        NaN      NaN                     NaN         NaN   \n",
       "27                        NaN   187922                     233         383   \n",
       "28                        NaN      NaN                     NaN         NaN   \n",
       "29                        NaN   213625                    1336        1607   \n",
       "..                        ...      ...                     ...         ...   \n",
       "113                       NaN   655037                     728         898   \n",
       "114                  15456290      NaN                     463         523   \n",
       "115                   -307301   261809                     196         312   \n",
       "116                       NaN   248017                      23        1088   \n",
       "117                       NaN      NaN                     NaN         NaN   \n",
       "118                       NaN   229284                     395        2192   \n",
       "119                       NaN   231946                     178         209   \n",
       "120                       NaN   221003                     114         176   \n",
       "121                       NaN   158403                     NaN         NaN   \n",
       "122                       NaN      NaN                     NaN         NaN   \n",
       "123                       NaN   250100                    1902        2572   \n",
       "124                  -1787380   492375                    1401        2181   \n",
       "125                       NaN  1060932                    2979        3275   \n",
       "126                       NaN   261879                     NaN         NaN   \n",
       "127                       NaN      NaN                     571        2649   \n",
       "128                    -82782   239671                     NaN         NaN   \n",
       "129                       NaN      NaN                     508        1433   \n",
       "130                       NaN      NaN                     NaN         NaN   \n",
       "131                       NaN      NaN                     NaN         NaN   \n",
       "132                       NaN   309946                    2271        2374   \n",
       "133                       NaN      NaN                     NaN         NaN   \n",
       "134                       NaN    85274                     437         496   \n",
       "135                       NaN   247338                     379         460   \n",
       "136                       NaN   349487                     477        1522   \n",
       "137                       NaN   330546                    2333        3523   \n",
       "138                       NaN      NaN                     NaN         NaN   \n",
       "139                       NaN   415189                    1585        1892   \n",
       "140                       NaN   265214                     300         533   \n",
       "141                       NaN   278601                     772         865   \n",
       "142                       NaN   274975                     874         873   \n",
       "\n",
       "    total_payments total_stock_value  \n",
       "0          1061827            585062  \n",
       "1          5634343          10623258  \n",
       "2           211725           6678735  \n",
       "3              NaN           1038185  \n",
       "4           288682           6391065  \n",
       "5           628522            208510  \n",
       "6          1848227            955873  \n",
       "7          4099771           1662855  \n",
       "8          3859065            803094  \n",
       "9          1737629            880290  \n",
       "10         3100224           2282768  \n",
       "11          774401            368705  \n",
       "12         2014835            954354  \n",
       "13         1545059            698920  \n",
       "14          966522           2218275  \n",
       "15             NaN            372205  \n",
       "16         1490344            698242  \n",
       "17         3202070           1416848  \n",
       "18          551174            725735  \n",
       "19          762135            384930  \n",
       "20           87410           1030329  \n",
       "21         1798780           5898997  \n",
       "22         3471141            547143  \n",
       "23             NaN               NaN  \n",
       "24          102500            -44093  \n",
       "25         3038702           2072035  \n",
       "26          189583               NaN  \n",
       "27          618850            659249  \n",
       "28          228656               NaN  \n",
       "29         2047593           1843816  \n",
       "..             ...               ...  \n",
       "113        1386690             28798  \n",
       "114       15456290               NaN  \n",
       "115         477557               NaN  \n",
       "116        1054637           1014505  \n",
       "117          55097            192758  \n",
       "118         812194            597461  \n",
       "119        1566469            896153  \n",
       "120         319941               NaN  \n",
       "121         360300          11884758  \n",
       "122          91093          30766064  \n",
       "123        1410464           1865087  \n",
       "124         550981           8831913  \n",
       "125       17252530          14622185  \n",
       "126        3123383          23817930  \n",
       "127            NaN            346663  \n",
       "128         827696             63014  \n",
       "129            NaN            758931  \n",
       "130          50591            176378  \n",
       "131            NaN            759557  \n",
       "132        1587421           1920055  \n",
       "133           3750               NaN  \n",
       "134        1979596           5819980  \n",
       "135         399393           1168042  \n",
       "136        8407016           2070306  \n",
       "137        2355702           3444470  \n",
       "138         119292               NaN  \n",
       "139        1868758           2502063  \n",
       "140        1092663           3745048  \n",
       "141         875760           1080988  \n",
       "142        1272284            778546  \n",
       "\n",
       "[143 rows x 21 columns]>"
      ]
     },
     "execution_count": 51,
     "metadata": {},
     "output_type": "execute_result"
    }
   ],
   "source": [
    "\"\"\"Change data dictionary to pandas DataFrame\"\"\"\n",
    "df = pd.DataFrame.from_records(list(enron_data.values()))\n",
    "persons= pd.Series(list(enron_data.keys()))\n",
    "print(persons.head())\n",
    "df.head"
   ]
  },
  {
   "cell_type": "code",
   "execution_count": 55,
   "metadata": {},
   "outputs": [
    {
     "name": "stdout",
     "output_type": "stream",
     "text": [
      "Number of POI's(Person Of Interests): 16\n"
     ]
    }
   ],
   "source": [
    "pois = [x for x, y in enron_data.items() if y['poi']]\n",
    "print('Number of POI\\'s(Person Of Interests): {0}'.format(len(pois)))"
   ]
  },
  {
   "cell_type": "code",
   "execution_count": 56,
   "metadata": {},
   "outputs": [
    {
     "name": "stdout",
     "output_type": "stream",
     "text": [
      "<class 'pandas.core.frame.DataFrame'>\n",
      "RangeIndex: 143 entries, 0 to 142\n",
      "Data columns (total 21 columns):\n",
      "bonus                        143 non-null object\n",
      "deferral_payments            143 non-null object\n",
      "deferred_income              143 non-null object\n",
      "director_fees                143 non-null object\n",
      "email_address                143 non-null object\n",
      "exercised_stock_options      143 non-null object\n",
      "expenses                     143 non-null object\n",
      "from_messages                143 non-null object\n",
      "from_poi_to_this_person      143 non-null object\n",
      "from_this_person_to_poi      143 non-null object\n",
      "loan_advances                143 non-null object\n",
      "long_term_incentive          143 non-null object\n",
      "other                        143 non-null object\n",
      "poi                          143 non-null bool\n",
      "restricted_stock             143 non-null object\n",
      "restricted_stock_deferred    143 non-null object\n",
      "salary                       143 non-null object\n",
      "shared_receipt_with_poi      143 non-null object\n",
      "to_messages                  143 non-null object\n",
      "total_payments               143 non-null object\n",
      "total_stock_value            142 non-null object\n",
      "dtypes: bool(1), object(20)\n",
      "memory usage: 22.6+ KB\n"
     ]
    }
   ],
   "source": [
    "df.shape\n",
    "df.info()"
   ]
  },
  {
   "cell_type": "code",
   "execution_count": 60,
   "metadata": {},
   "outputs": [
    {
     "data": {
      "text/plain": [
       "dict_keys(['METTS MARK', 'BAXTER JOHN C', 'ELLIOTT STEVEN', 'CORDES WILLIAM R', 'HANNON KEVIN P', 'MORDAUNT KRISTINA M', 'MEYER ROCKFORD G', 'MCMAHON JEFFREY', 'HAEDICKE MARK E', 'PIPER GREGORY F', 'HUMPHREY GENE E', 'NOLES JAMES L', 'BLACHMAN JEREMY M', 'SUNDE MARTIN', 'GIBBS DANA R', 'LOWRY CHARLES P', 'COLWELL WESLEY', 'MULLER MARK S', 'JACKSON CHARLENE R', 'WESTFAHL RICHARD K', 'WALTERS GARETH W', 'WALLS JR ROBERT H', 'KITCHEN LOUISE', 'CHAN RONNIE', 'BELFER ROBERT', 'SHANKMAN JEFFREY A', 'WODRASKA JOHN', 'BERGSIEKER RICHARD P', 'URQUHART JOHN A', 'BIBI PHILIPPE A', 'RIEKER PAULA H', 'WHALEY DAVID A', 'BECK SALLY W', 'HAUG DAVID L', 'ECHOLS JOHN B', 'MENDELSOHN JOHN', 'HICKERSON GARY J', 'CLINE KENNETH W', 'LEWIS RICHARD', 'HAYES ROBERT E', 'KOPPER MICHAEL J', 'LEFF DANIEL P', 'LAVORATO JOHN J', 'BERBERIAN DAVID', 'DETMERING TIMOTHY J', 'WAKEHAM JOHN', 'POWERS WILLIAM', 'GOLD JOSEPH', 'BANNANTINE JAMES M', 'DUNCAN JOHN H', 'SHAPIRO RICHARD S', 'SHERRIFF JOHN R', 'SHELBY REX', 'LEMAISTRE CHARLES', 'DEFFNER JOSEPH M', 'KISHKILL JOSEPH G', 'WHALLEY LAWRENCE G', 'MCCONNELL MICHAEL S', 'PIRO JIM', 'DELAINEY DAVID W', 'SULLIVAN-SHAKLOVITZ COLLEEN', 'WROBEL BRUCE', 'LINDHOLM TOD A', 'MEYER JEROME J', 'BUTTS ROBERT H', 'OLSON CINDY K', 'MCDONALD REBECCA', 'CUMBERLAND MICHAEL S', 'GAHN ROBERT S', 'BADUM JAMES P', 'HERMANN ROBERT J', 'FALLON JAMES B', 'GATHMANN WILLIAM D', 'HORTON STANLEY C', 'BOWEN JR RAYMOND M', 'GILLIS JOHN', 'FITZGERALD JAY L', 'MORAN MICHAEL P', 'REDMOND BRIAN L', 'BAZELIDES PHILIP J', 'BELDEN TIMOTHY N', 'DIMICHELE RICHARD G', 'DURAN WILLIAM D', 'THORN TERENCE H', 'FASTOW ANDREW S', 'FOY JOE', 'CALGER CHRISTOPHER F', 'RICE KENNETH D', 'KAMINSKI WINCENTY J', 'LOCKHART EUGENE E', 'COX DAVID', 'OVERDYKE JR JERE C', 'PEREIRA PAULO V. FERRAZ', 'STABLER FRANK', 'BLAKE JR. NORMAN P', 'SHERRICK JEFFREY B', 'PRENTICE JAMES', 'GRAY RODNEY', 'THE TRAVEL AGENCY IN THE PARK', 'UMANOFF ADAM S', 'KEAN STEVEN J', 'FOWLER PEGGY', 'WASAFF GEORGE', 'WHITE JR THOMAS E', 'CHRISTODOULOU DIOMEDES', 'ALLEN PHILLIP K', 'SHARP VICTORIA T', 'JAEDICKE ROBERT', 'WINOKUR JR. HERBERT S', 'BROWN MICHAEL', 'MCCLELLAN GEORGE', 'HUGHES JAMES A', 'REYNOLDS LAWRENCE', 'PICKERING MARK R', 'BHATNAGAR SANJAY', 'CARTER REBECCA C', 'BUCHANAN HAROLD G', 'YEAP SOON', 'MURRAY JULIA H', 'GARLAND C KEVIN', 'DODSON KEITH', 'YEAGER F SCOTT', 'HIRKO JOSEPH', 'DIETRICH JANET R', 'DERRICK JR. JAMES V', 'FREVERT MARK A', 'PAI LOU L', 'HAYSLETT RODERICK J', 'BAY FRANKLIN R', 'MCCARTY DANNY J', 'FUGH JOHN L', 'SCRIMSHAW MATTHEW', 'KOENIG MARK E', 'SAVAGE FRANK', 'IZZO LAWRENCE L', 'TILNEY ELIZABETH A', 'MARTIN AMANDA K', 'BUY RICHARD B', 'GRAMM WENDY L', 'CAUSEY RICHARD A', 'TAYLOR MITCHELL S', 'DONAHUE JR JEFFREY M', 'GLISAN JR BEN F'])"
      ]
     },
     "execution_count": 60,
     "metadata": {},
     "output_type": "execute_result"
    }
   ],
   "source": [
    "\"\"\" Nmaes of all the users in the dataset \"\"\"\n",
    "enron_data.keys()"
   ]
  },
  {
   "cell_type": "code",
   "execution_count": 61,
   "metadata": {},
   "outputs": [],
   "source": [
    "### Queries of the Dataset ###"
   ]
  },
  {
   "cell_type": "code",
   "execution_count": 66,
   "metadata": {},
   "outputs": [
    {
     "data": {
      "text/plain": [
       "{'bonus': 'NaN',\n",
       " 'deferral_payments': 564348,\n",
       " 'deferred_income': 'NaN',\n",
       " 'director_fees': 'NaN',\n",
       " 'email_address': 'james.prentice@enron.com',\n",
       " 'exercised_stock_options': 886231,\n",
       " 'expenses': 'NaN',\n",
       " 'from_messages': 'NaN',\n",
       " 'from_poi_to_this_person': 'NaN',\n",
       " 'from_this_person_to_poi': 'NaN',\n",
       " 'loan_advances': 'NaN',\n",
       " 'long_term_incentive': 'NaN',\n",
       " 'other': 'NaN',\n",
       " 'poi': False,\n",
       " 'restricted_stock': 208809,\n",
       " 'restricted_stock_deferred': 'NaN',\n",
       " 'salary': 'NaN',\n",
       " 'shared_receipt_with_poi': 'NaN',\n",
       " 'to_messages': 'NaN',\n",
       " 'total_payments': 564348,\n",
       " 'total_stock_value': 1095040}"
      ]
     },
     "execution_count": 66,
     "metadata": {},
     "output_type": "execute_result"
    }
   ],
   "source": [
    "enron_data['PRENTICE JAMES']"
   ]
  },
  {
   "cell_type": "code",
   "execution_count": 67,
   "metadata": {},
   "outputs": [
    {
     "data": {
      "text/plain": [
       "1095040"
      ]
     },
     "execution_count": 67,
     "metadata": {},
     "output_type": "execute_result"
    }
   ],
   "source": [
    "enron_data['PRENTICE JAMES']['total_stock_value']"
   ]
  },
  {
   "cell_type": "code",
   "execution_count": 68,
   "metadata": {},
   "outputs": [
    {
     "data": {
      "text/plain": [
       "11"
      ]
     },
     "execution_count": 68,
     "metadata": {},
     "output_type": "execute_result"
    }
   ],
   "source": [
    "enron_data['COLWELL WESLEY']['from_this_person_to_poi']"
   ]
  },
  {
   "cell_type": "code",
   "execution_count": 75,
   "metadata": {},
   "outputs": [],
   "source": [
    "features_list = ['poi', 'salary', 'to_messages', 'deferral_payments', 'total_payments', \n",
    "                 'loan_advances', 'bonus', 'restricted_stock_deferred', \n",
    "                 'deferred_income', 'total_stock_value', 'expenses', 'from_poi_to_this_person', \n",
    "                 'exercised_stock_options', 'from_messages', 'other', 'from_this_person_to_poi', \n",
    "                 'long_term_incentive', 'shared_receipt_with_poi', 'restricted_stock', 'director_fees'] \n",
    "\n",
    "f = open('C:/Users/Geekquad/ud120-projects/final_project/poi_names.txt', 'r')\n"
   ]
  },
  {
   "cell_type": "markdown",
   "metadata": {},
   "source": [
    "The features in the data fall into three major types, namely financial features, email features and POI labels.\n",
    "\n",
    "financial features: ['salary', 'deferral_payments', 'total_payments', 'loan_advances', 'bonus', 'restricted_stock_deferred', 'deferred_income', 'total_stock_value', 'expenses', 'exercised_stock_options', 'other', 'long_term_incentive', 'restricted_stock', 'director_fees'] (all units are in US dollars)\n",
    "\n",
    "email features: ['to_messages', 'email_address', 'from_poi_to_this_person', 'from_messages', 'from_this_person_to_poi', 'shared_receipt_with_poi'] (units are generally number of emails messages; notable exception is ‘email_address’, which is a text string)\n",
    "\n",
    "POI label: [‘poi’] (boolean, represented as integer)\n",
    "\n",
    "I'm going to try to use all features, filter them and choose the best."
   ]
  },
  {
   "cell_type": "code",
   "execution_count": null,
   "metadata": {},
   "outputs": [],
   "source": []
  }
 ],
 "metadata": {
  "kernelspec": {
   "display_name": "Python 3",
   "language": "python",
   "name": "python3"
  },
  "language_info": {
   "codemirror_mode": {
    "name": "ipython",
    "version": 3
   },
   "file_extension": ".py",
   "mimetype": "text/x-python",
   "name": "python",
   "nbconvert_exporter": "python",
   "pygments_lexer": "ipython3",
   "version": "3.6.4"
  }
 },
 "nbformat": 4,
 "nbformat_minor": 2
}
